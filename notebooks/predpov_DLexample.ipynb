{
 "cells": [
  {
   "cell_type": "code",
   "execution_count": 1,
   "metadata": {},
   "outputs": [],
   "source": [
    "import os \n",
    "import numpy as np \n",
    "import pandas as pd \n",
    "from osgeo import gdal, osr\n",
    "from tqdm.notebook import tqdm \n",
    "import requests \n",
    "import matplotlib.pyplot as plt \n",
    "from io import BytesIO"
   ]
  },
  {
   "cell_type": "code",
   "execution_count": 2,
   "metadata": {},
   "outputs": [],
   "source": [
    "BASE_DIR = '.'\n",
    "NIGHTLIGHTS_DIR = os.path.join(BASE_DIR, 'data\\\\Nightlights\\\\2013\\\\F182013.v4c_web.stable_lights.avg_vis.tif')\n",
    "COUNTRY = 'malawi_2016'\n",
    "RANDOM_SEED = 7\n",
    "PROCESSED_DIR = os.path.join(BASE_DIR, 'countries', COUNTRY, 'processed')\n",
    "IMAGE_DIR = os.path.join(BASE_DIR, 'countries', COUNTRY, 'images')"
   ]
  },
  {
   "cell_type": "code",
   "execution_count": 3,
   "metadata": {},
   "outputs": [],
   "source": [
    "os.makedirs(IMAGE_DIR, exist_ok=False)"
   ]
  },
  {
   "cell_type": "markdown",
   "metadata": {},
   "source": [
    "# Generate candidate location"
   ]
  },
  {
   "cell_type": "code",
   "execution_count": 4,
   "metadata": {},
   "outputs": [],
   "source": [
    "def latLon2Pixel(lat, lon, ct, gt):\n",
    "    (lon, lat, holder) = ct.TransformPoint(lon, lat)\n",
    "    x = (lon-gt[0])/gt[1]\n",
    "    y = (lat-gt[3])/gt[5]\n",
    "    return (int(x), int(y))\n",
    "\n",
    "\n",
    "def locsToPixels(srcAddr, latLonPairs):\n",
    "    ds = gdal.Open(srcAddr)\n",
    "    gt = ds.GetGeoTransform()\n",
    "    srs = osr.SpatialReference()\n",
    "    srs.ImportFromWkt(ds.GetProjection())\n",
    "    srsLatLong = srs.CloneGeogCS()\n",
    "    ct = osr.CoordinateTransformation(srsLatLong, srs)\n",
    "    pixelPairs = []\n",
    "    for point in latLonPairs:\n",
    "        lat, lon = point\n",
    "        pixelPairs.append(latLon2Pixel(lat, lon, ct, gt))\n",
    "    return pixelPairs\n",
    "\n",
    "\n",
    "def pixel2coord(x, y, xoff, a, b, yoff, d, e):\n",
    "    xp = a * x + b * y + xoff\n",
    "    yp = d * x + e * y + yoff\n",
    "    return (yp, xp)\n",
    "\n",
    "def pixelsToCoords(srcAddr, pixelPairs):\n",
    "    ds = gdal.Open(srcAddr)\n",
    "    xoff, a, b, yoff, d, e = ds.GetGeoTransform()\n",
    "    latLonPairs = []\n",
    "    for pixel in pixelPairs:\n",
    "        x, y = pixel\n",
    "        latLonPairs.append(pixel2coord(x + 0.5, y + 0.5, xoff, a, b, yoff, d, e))\n",
    "    return latLonPairs\n",
    "\n",
    "\n",
    "def get_download_locations():\n",
    "    df = pd.read_csv(os.path.join(PROCESSED_DIR, 'clusters.csv'))\n",
    "    clusters = df[['lat', 'lon']].values.tolist()\n",
    "    top_lefts = [(lat + 0.045, lon - 0.045) for lat, lon in clusters]\n",
    "    bottom_rights = [(lat - 0.045, lon + 0.045) for lat, lon in clusters]\n",
    "    top_left_pixellocs = locsToPixels(NIGHTLIGHTS_DIR, top_lefts)\n",
    "    bottom_right_pixellocs = locsToPixels(NIGHTLIGHTS_DIR, bottom_rights)\n",
    "    output_cluster_locs = []\n",
    "    output_pix = []\n",
    "    for i in range(len(clusters)):\n",
    "        top_left = top_left_pixellocs[i]\n",
    "        bottom_right = bottom_right_pixellocs[i]\n",
    "        for x in range(top_left[0], bottom_right[0]):\n",
    "            for y in range(top_left[1], bottom_right[1]):\n",
    "                output_pix.append((x, y))\n",
    "                output_cluster_locs.append(clusters[i])\n",
    "\n",
    "    output_locs = pixelsToCoords(NIGHTLIGHTS_DIR, output_pix)\n",
    "    save_dir = os.path.join(PROCESSED_DIR, 'candidate_download_locs.csv')\n",
    "    columns = ['im_lat', 'im_lon', 'cluster_lat', 'cluster_lon']\n",
    "    with open(save_dir, 'w') as f:\n",
    "        f.write(','.join(columns) + '\\n')\n",
    "        for loc, cluster_loc in zip(output_locs, output_cluster_locs):\n",
    "            to_write = ','.join([str(loc[0]), str(loc[1]), str(cluster_loc[0]), str(cluster_loc[1])]) + '\\n'\n",
    "            f.write(to_write)\n",
    "        print(f'{len(output_locs)} locations saved at {save_dir}')"
   ]
  },
  {
   "cell_type": "code",
   "execution_count": 5,
   "metadata": {},
   "outputs": [
    {
     "name": "stdout",
     "output_type": "stream",
     "text": [
      "Generating candidate image locations for malawi_2016\n"
     ]
    }
   ],
   "source": [
    "print(f\"Generating candidate image locations for {COUNTRY}\")\n",
    "#get_download_locations()\n",
    "\n",
    "df= pd.read_csv(os.path.join(PROCESSED_DIR, 'clusters.csv'))\n",
    "cluster"
   ]
  },
  {
   "cell_type": "code",
   "execution_count": null,
   "metadata": {},
   "outputs": [],
   "source": []
  }
 ],
 "metadata": {
  "kernelspec": {
   "display_name": "sat",
   "language": "python",
   "name": "sat"
  },
  "language_info": {
   "codemirror_mode": {
    "name": "ipython",
    "version": 3
   },
   "file_extension": ".py",
   "mimetype": "text/x-python",
   "name": "python",
   "nbconvert_exporter": "python",
   "pygments_lexer": "ipython3",
   "version": "3.7.6"
  }
 },
 "nbformat": 4,
 "nbformat_minor": 4
}
