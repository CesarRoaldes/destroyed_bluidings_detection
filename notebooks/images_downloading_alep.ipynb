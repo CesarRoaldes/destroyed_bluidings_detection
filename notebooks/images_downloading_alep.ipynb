{
 "cells": [
  {
   "cell_type": "markdown",
   "metadata": {},
   "source": [
    "# **Traitement de la ville d'Alep**"
   ]
  },
  {
   "cell_type": "code",
   "execution_count": 1,
   "metadata": {},
   "outputs": [],
   "source": [
    "import os\n",
    "import math\n",
    "import numpy as np\n",
    "import pandas as pd\n",
    "from osgeo import gdal, osr\n",
    "from tqdm.notebook import tqdm\n",
    "\n",
    "import requests\n",
    "import matplotlib.pyplot as plt\n",
    "from io import BytesIO\n",
    "\n",
    "import geopandas as gpd\n",
    "from shapely import wkt"
   ]
  },
  {
   "cell_type": "code",
   "execution_count": 2,
   "metadata": {},
   "outputs": [],
   "source": [
    "BASE_DIR = '..'\n",
    "IMAGES_DIR = os.path.join(BASE_DIR, \"data/images/alep\")\n",
    "DATA_DIR = os.path.join(BASE_DIR, \"data/process\")"
   ]
  },
  {
   "cell_type": "code",
   "execution_count": 3,
   "metadata": {},
   "outputs": [],
   "source": [
    "os.makedirs(IMAGES_DIR, exist_ok=True)"
   ]
  },
  {
   "cell_type": "markdown",
   "metadata": {},
   "source": [
    "Importation du fichier contenant les géolocalisations de nos données"
   ]
  },
  {
   "cell_type": "code",
   "execution_count": 4,
   "metadata": {},
   "outputs": [
    {
     "data": {
      "text/html": [
       "<div>\n",
       "<style scoped>\n",
       "    .dataframe tbody tr th:only-of-type {\n",
       "        vertical-align: middle;\n",
       "    }\n",
       "\n",
       "    .dataframe tbody tr th {\n",
       "        vertical-align: top;\n",
       "    }\n",
       "\n",
       "    .dataframe thead th {\n",
       "        text-align: right;\n",
       "    }\n",
       "</style>\n",
       "<table border=\"1\" class=\"dataframe\">\n",
       "  <thead>\n",
       "    <tr style=\"text-align: right;\">\n",
       "      <th></th>\n",
       "      <th>label</th>\n",
       "      <th>geometry</th>\n",
       "    </tr>\n",
       "  </thead>\n",
       "  <tbody>\n",
       "    <tr>\n",
       "      <th>0</th>\n",
       "      <td>1</td>\n",
       "      <td>POINT (37.13543285100008 36.23547293500008)</td>\n",
       "    </tr>\n",
       "    <tr>\n",
       "      <th>1</th>\n",
       "      <td>1</td>\n",
       "      <td>POINT (37.13539414500008 36.23556617700007)</td>\n",
       "    </tr>\n",
       "    <tr>\n",
       "      <th>2</th>\n",
       "      <td>1</td>\n",
       "      <td>POINT (37.13908459400005 36.24100053500007)</td>\n",
       "    </tr>\n",
       "  </tbody>\n",
       "</table>\n",
       "</div>"
      ],
      "text/plain": [
       "   label                                     geometry\n",
       "0      1  POINT (37.13543285100008 36.23547293500008)\n",
       "1      1  POINT (37.13539414500008 36.23556617700007)\n",
       "2      1  POINT (37.13908459400005 36.24100053500007)"
      ]
     },
     "execution_count": 4,
     "metadata": {},
     "output_type": "execute_result"
    }
   ],
   "source": [
    "df_alep = pd.read_csv(os.path.join(DATA_DIR, \"data_label_alep.csv\"), index_col=0)\n",
    "df_alep.head(3)"
   ]
  },
  {
   "cell_type": "markdown",
   "metadata": {},
   "source": [
    "Conversion de la colonne `geometry` au format `shapely.geometry.point.Point`  \n",
    "Cette étape est nécessaire pour convertir notre DataFrame en GeoDataFrame"
   ]
  },
  {
   "cell_type": "code",
   "execution_count": 5,
   "metadata": {},
   "outputs": [],
   "source": [
    "df_alep['geometry'] = df_alep['geometry'].apply(wkt.loads)\n",
    "geo_alep = gpd.GeoDataFrame(df_alep, geometry = 'geometry')"
   ]
  },
  {
   "cell_type": "markdown",
   "metadata": {},
   "source": [
    "**Méthodologie**: On détermine les points *lattitude max*, *lattitude min*, *longitude max*, *longitude min* pour extraire les images contenues dans ce quadrillatère.  \n",
    "  \n",
    "*Attention*: Le format de nos données nous donne les points sous la forme (longitude/lattitude), contrairement à Google Map qui utilise l'ordre inverse (et respecte EPSG:4326, le \"Geodetic coordinate system for World\")"
   ]
  },
  {
   "cell_type": "code",
   "execution_count": 6,
   "metadata": {},
   "outputs": [],
   "source": [
    "liste_longitude = [coord.bounds[0] for coord in geo_alep['geometry']]\n",
    "liste_lattitude = [coord.bounds[1] for coord in geo_alep['geometry']]"
   ]
  },
  {
   "cell_type": "code",
   "execution_count": 7,
   "metadata": {},
   "outputs": [
    {
     "data": {
      "text/plain": [
       "(37.03381997600007, 37.33491658300005, 36.13624722900005, 36.28290321700007)"
      ]
     },
     "execution_count": 7,
     "metadata": {},
     "output_type": "execute_result"
    }
   ],
   "source": [
    "min_lon = min(liste_longitude)\n",
    "max_lon = max(liste_longitude)\n",
    "min_lat = min(liste_lattitude)\n",
    "max_lat = max(liste_lattitude)\n",
    "\n",
    "min_lon, max_lon, min_lat, max_lat"
   ]
  },
  {
   "cell_type": "markdown",
   "metadata": {},
   "source": [
    "On shift légèrement nos 4 points pour englober les observations correspondantes."
   ]
  },
  {
   "cell_type": "code",
   "execution_count": 8,
   "metadata": {},
   "outputs": [
    {
     "data": {
      "text/plain": [
       "(37.03381997600007, 37.33491658300005, 36.13624722900005, 36.28290321700007)"
      ]
     },
     "execution_count": 8,
     "metadata": {},
     "output_type": "execute_result"
    }
   ],
   "source": [
    "min_lon = min_lon\n",
    "max_lon = max_lon\n",
    "min_lat = min_lat\n",
    "max_lat = max_lat\n",
    "\n",
    "min_lon, max_lon, min_lat, max_lat"
   ]
  },
  {
   "cell_type": "markdown",
   "metadata": {},
   "source": [
    "### **Téléchargement des images**"
   ]
  },
  {
   "cell_type": "markdown",
   "metadata": {},
   "source": [
    "On commence par définir au préalable tout nos paramètres utilisés"
   ]
  },
  {
   "cell_type": "code",
   "execution_count": 9,
   "metadata": {},
   "outputs": [],
   "source": [
    "zoom = 19\n",
    "size = 600"
   ]
  },
  {
   "cell_type": "markdown",
   "metadata": {},
   "source": [
    "On choisit un niveau de zoom de 19 qui correspond à environ 0.298 metres par pixels (https://developer.tomtom.com/maps-api/maps-api-documentation/zoom-levels-and-tile-grid). Par conséquent, notre image correspond à 0.298 x 600 = 178.9 mètres environ. "
   ]
  },
  {
   "cell_type": "markdown",
   "metadata": {},
   "source": [
    "<font color=\"red\">*On change à 0.22 pour ajuster le pas qui était légèrement trop grand*</font>"
   ]
  },
  {
   "cell_type": "markdown",
   "metadata": {},
   "source": [
    "Pour l'instant en prenant les *approximations* suivantes : \n",
    "- <u>longitude</u> : 1 degré = **(40,075,000 / 360) x cos(latitude)** mètres\n",
    "- <u>latitude</u> : 1 degré = **111320** mètres\n",
    "  \n",
    "(https://stackoverflow.com/questions/639695/how-to-convert-latitude-or-longitude-to-meters réponse de Ben)"
   ]
  },
  {
   "cell_type": "markdown",
   "metadata": {},
   "source": [
    "On commence par creer les listes qui seront destinées à receuillir les coordonnées géographiques de nos images qui seront les centroïdes de chaque image."
   ]
  },
  {
   "cell_type": "markdown",
   "metadata": {},
   "source": [
    "Nous partons du points le plus bas à gauche du quadrillatère que nous avons défini précédement pour quadriller la zone (sous forme de carré)"
   ]
  },
  {
   "cell_type": "code",
   "execution_count": 10,
   "metadata": {},
   "outputs": [
    {
     "data": {
      "text/plain": [
       "274877906944"
      ]
     },
     "execution_count": 10,
     "metadata": {},
     "output_type": "execute_result"
    }
   ],
   "source": [
    "(2 ** 19) * (2 ** 19)"
   ]
  },
  {
   "cell_type": "code",
   "execution_count": 11,
   "metadata": {},
   "outputs": [],
   "source": [
    "m_px = 0.274877906944"
   ]
  },
  {
   "cell_type": "code",
   "execution_count": 12,
   "metadata": {},
   "outputs": [
    {
     "data": {
      "text/plain": [
       "(204, 99)"
      ]
     },
     "execution_count": 12,
     "metadata": {},
     "output_type": "execute_result"
    }
   ],
   "source": [
    "from math import cos\n",
    "\n",
    "liste_lon = list()\n",
    "liste_lat = list()\n",
    "\n",
    "lat = min_lat\n",
    "lon = min_lon\n",
    "\n",
    "while lat < max_lat:\n",
    "    liste_lat.append(lat)\n",
    "    lat += (m_px * 600) / (111.32 * 1000)\n",
    "\n",
    "# Attention ici on inverse les lignes (cos(.) < 0)\n",
    "while lon < max_lon:\n",
    "    liste_lon.append(lon)\n",
    "    lon += (m_px * 600) / ((40075 * 1000) * cos(0) / 360)\n",
    "    \n",
    "len(liste_lon), len(liste_lat)"
   ]
  },
  {
   "cell_type": "markdown",
   "metadata": {},
   "source": [
    "-------------------------------------"
   ]
  },
  {
   "cell_type": "markdown",
   "metadata": {},
   "source": [
    "-------------------------------------"
   ]
  },
  {
   "cell_type": "code",
   "execution_count": 13,
   "metadata": {},
   "outputs": [],
   "source": [
    "def getDistanceFromLatLonInMeter(lat1, lon1, lat2, lon2):\n",
    "    R = 6371 * 1000\n",
    "    dLat = math.radians(lat2-lat1)\n",
    "    dLon = math.radians(lon2-lon1)\n",
    "    a = math.sin(dLat/2) * math.sin(dLat/2) \\\n",
    "            + math.cos(math.radians(lat1)) * math.cos(math.radians(lat2)) \\\n",
    "            * math.sin(dLon/2) * math.sin(dLon/2)\n",
    "    c = 2 * math.atan2(math.sqrt(a), math.sqrt(1-a))\n",
    "    d = R * c\n",
    "    return d"
   ]
  },
  {
   "cell_type": "code",
   "execution_count": 14,
   "metadata": {},
   "outputs": [
    {
     "data": {
      "text/plain": [
       "391174.7537144225"
      ]
     },
     "execution_count": 14,
     "metadata": {},
     "output_type": "execute_result"
    }
   ],
   "source": [
    "getDistanceFromLatLonInMeter(48.856667, 2.350987, 45.7673, 4.834329) # Distance Paris-Lyon"
   ]
  },
  {
   "cell_type": "raw",
   "metadata": {},
   "source": [
    "var φ2 = Math.asin( Math.sin(φ1)*Math.cos(d/R) +\n",
    "                    Math.cos(φ1)*Math.sin(d/R)*Math.cos(brng) );\n",
    "var λ2 = λ1 + Math.atan2(Math.sin(brng)*Math.sin(d/R)*Math.cos(φ1),\n",
    "                         Math.cos(d/R)-Math.sin(φ1)*Math.sin(φ2));"
   ]
  },
  {
   "cell_type": "code",
   "execution_count": 15,
   "metadata": {},
   "outputs": [],
   "source": [
    "def reverse_haversine_test(lat1, lon1, brng, distance):\n",
    "    R = 6371\n",
    "    d_R = distance / R\n",
    "    lat2 = math.asin(math.sin(lat1) * math.cos(d_R) \\\n",
    "                    + math.cos(lat1) * math.sin(d_R) * math.cos(brng)) # 90 pour aller vers l'est\n",
    "    lon2 = lon1 + math.atan2(math.sin(brng) * math.sin(d_R) * math.cos(lat1),\n",
    "                             math.cos(d_R) - math.sin(lat1) * math.sin(lat2))\n",
    "    lon2 =  (lon2 + 540) % 360 - 180\n",
    "    return lat2, lon2"
   ]
  },
  {
   "cell_type": "code",
   "execution_count": 16,
   "metadata": {},
   "outputs": [],
   "source": [
    "def reverse_haversine(lat1, lon1, brng, d):\n",
    "    R = 6378.1 #Radius of the Earth\n",
    "    brng = 1.57 #Bearing is 90 degrees converted to radians.\n",
    "    d = 15 #Distance in km\n",
    "\n",
    "    #lat2  52.20444 - the lat result I'm hoping for\n",
    "    #lon2  0.36056 - the long result I'm hoping for.\n",
    "\n",
    "    lat1 = math.radians(52.20472) #Current lat point converted to radians\n",
    "    lon1 = math.radians(0.14056) #Current long point converted to radians\n",
    "\n",
    "    lat2 = math.asin( math.sin(lat1)*math.cos(d/R) +\n",
    "         math.cos(lat1)*math.sin(d/R)*math.cos(brng))\n",
    "\n",
    "    lon2 = lon1 + math.atan2(math.sin(brng)*math.sin(d/R)*math.cos(lat1),\n",
    "                 math.cos(d/R)-math.sin(lat1)*math.sin(lat2))\n",
    "\n",
    "    lat2 = math.degrees(lat2)\n",
    "    lon2 = math.degrees(lon2)\n",
    "\n",
    "    print(lat2)\n",
    "    print(lon2)"
   ]
  },
  {
   "cell_type": "code",
   "execution_count": 17,
   "metadata": {},
   "outputs": [
    {
     "name": "stdout",
     "output_type": "stream",
     "text": [
      "52.20462299620793\n",
      "0.360433887489931\n"
     ]
    }
   ],
   "source": [
    "reverse_haversine(10, 10, 90, 100)"
   ]
  },
  {
   "cell_type": "code",
   "execution_count": 18,
   "metadata": {},
   "outputs": [
    {
     "name": "stdout",
     "output_type": "stream",
     "text": [
      "48.884344840532044 2.3676921348950923\n"
     ]
    }
   ],
   "source": [
    "import geopy\n",
    "from geopy.distance import geodesic\n",
    "\n",
    "# given: lat1, lon1, b = bearing in degrees, d = distance in kilometers\n",
    "\n",
    "lat1 = 48.883709\n",
    "lon1 = 2.366728\n",
    "b = 45\n",
    "d = 0.1\n",
    "\n",
    "origin = geopy.Point(lat1, lon1)\n",
    "destination = geodesic(kilometers=d).destination(origin, b)\n",
    "\n",
    "lat2, lon2 = destination.latitude, destination.longitude\n",
    "print(lat2, lon2)"
   ]
  },
  {
   "cell_type": "markdown",
   "metadata": {},
   "source": [
    "-------------------------------------"
   ]
  },
  {
   "cell_type": "markdown",
   "metadata": {},
   "source": [
    "-------------------------------------"
   ]
  },
  {
   "cell_type": "raw",
   "metadata": {},
   "source": [
    "coord_images = []\n",
    "\n",
    "for x in liste_lat:\n",
    "    for y in liste_lon:\n",
    "        if (x < 35.32) and (y < 40.14):\n",
    "            pass\n",
    "        elif (x > 35.35) or ((y > 40.17) or (y < 40.09)):\n",
    "            pass\n",
    "        else:\n",
    "            coord_images.append((x, y))\n",
    "\n",
    "print(\"Nombre d'images candidates : {}\".format(len(coord_images)))"
   ]
  },
  {
   "cell_type": "code",
   "execution_count": 19,
   "metadata": {},
   "outputs": [
    {
     "name": "stdout",
     "output_type": "stream",
     "text": [
      "Nombre d'images candidates : 5427\n"
     ]
    }
   ],
   "source": [
    "coord_images = []\n",
    "\n",
    "for x in liste_lat:\n",
    "    for y in liste_lon:\n",
    "        if x < 36.16 or x > 36.26:\n",
    "            pass\n",
    "        elif y < 37.09 or y > 37.21:\n",
    "            pass\n",
    "        else:\n",
    "            coord_images.append((x, y))\n",
    "\n",
    "print(\"Nombre d'images candidates : {}\".format(len(coord_images)))"
   ]
  },
  {
   "cell_type": "markdown",
   "metadata": {},
   "source": [
    "On convertie ces points en coordonnées points `shapely` pour s'assurer qu'on a bien quadrillé toute la zone."
   ]
  },
  {
   "cell_type": "code",
   "execution_count": 20,
   "metadata": {},
   "outputs": [
    {
     "data": {
      "image/png": "[encoded data removed]",
      "text/plain": [
       "<Figure size 432x288 with 1 Axes>"
      ]
     },
     "metadata": {
      "needs_background": "light"
     },
     "output_type": "display_data"
    }
   ],
   "source": [
    "from shapely.geometry import Point\n",
    "import matplotlib.pyplot as plt\n",
    "\n",
    "# Attention : shapely lit les coordonnees sous la forme (longitude, lattitude)\n",
    "shaply_coord = [Point(y, x) for x, y in coord_images]\n",
    "plt.scatter([point.x for point in shaply_coord], [point.y for point in shaply_coord])\n",
    "plt.show()"
   ]
  },
  {
   "cell_type": "markdown",
   "metadata": {},
   "source": [
    "On convertie la liste `shaply_coord` en `gpd.GeoSeries` pour tenir compte des distances entre les points, ce qui n'est pas le cas quand on plot directement les coordonnées de nos points comme nous l'avons fait avec `plt.scatter`."
   ]
  },
  {
   "cell_type": "code",
   "execution_count": 21,
   "metadata": {},
   "outputs": [
    {
     "data": {
      "image/png": "[encoded data removed]",
      "text/plain": [
       "<Figure size 720x720 with 1 Axes>"
      ]
     },
     "metadata": {
      "needs_background": "light"
     },
     "output_type": "display_data"
    }
   ],
   "source": [
    "gpd.GeoSeries(shaply_coord).plot(figsize=(10,10), markersize=10)\n",
    "plt.show()"
   ]
  },
  {
   "cell_type": "markdown",
   "metadata": {},
   "source": [
    "On vient maintenant associer à chaque point les coordonnées du pixel en **bas à gauche** de l'image et du pixel en **haut à droite** pour ensuite définir le polygone carré de l'image.  \n",
    "  \n",
    "Cette étape est nécessaire pour ensuite être en mesure de déterminer si les coordonnées des batiments contenus dans notre base sont présents dans l'image ou non."
   ]
  },
  {
   "cell_type": "code",
   "execution_count": 22,
   "metadata": {},
   "outputs": [],
   "source": [
    "def creation_zone(point):\n",
    "    \"\"\" Defini les coordonnees du point en bas a droite de l'image\n",
    "        et les coordonnees du point en haut a gauche pour ensuite creer\n",
    "        le polygone cree par l'image associe au point (zoom 19 seulement).\n",
    "        \n",
    "        Retourne un tuple de (lon, lat) dans l'ordre (bg, bd, hd, hg).\n",
    "    \"\"\"\n",
    "    \n",
    "    lat, lon = point[0], point[1]\n",
    "    \n",
    "    # Attention ici on inverse les lignes (cos(.) < 0)\n",
    "    lon_bg = lon - (m_px * 300) / ((40075 * 1000) * cos(0) / 360)\n",
    "    lon_hd = lon + (m_px * 300) / ((40075 * 1000) * cos(0) / 360)\n",
    "    \n",
    "    lat_bg = lat - (m_px * 300) / (111.32 * 1000)\n",
    "    lat_hd = lat + (m_px * 300) / (111.32 * 1000)\n",
    "    \n",
    "    return ((lat_bg, lon_bg), (lat_bg, lon_hd), (lat_hd, lon_hd), (lat_hd, lon_bg))"
   ]
  },
  {
   "cell_type": "code",
   "execution_count": 23,
   "metadata": {},
   "outputs": [
    {
     "name": "stdout",
     "output_type": "stream",
     "text": [
      "Chaque image a été traitée : True\n",
      "Nous possédons 5427 zones.\n"
     ]
    },
    {
     "data": {
      "text/plain": [
       "((36.16069289266107, 37.0893785797742),\n",
       " (36.16069289266107, 37.09086014254151),\n",
       " (36.16217444803447, 37.09086014254151),\n",
       " (36.16217444803447, 37.0893785797742))"
      ]
     },
     "execution_count": 23,
     "metadata": {},
     "output_type": "execute_result"
    }
   ],
   "source": [
    "zone_images = [creation_zone(point) for point in coord_images]\n",
    "\n",
    "print(\"Chaque image a été traitée : {}\\nNous possédons {} zones.\".format(len(zone_images) == len(coord_images), len(zone_images)))\n",
    "zone_images[0]"
   ]
  },
  {
   "cell_type": "markdown",
   "metadata": {},
   "source": [
    "**Téléchargement d'une image test**"
   ]
  },
  {
   "cell_type": "markdown",
   "metadata": {},
   "source": [
    "On crée une fonction sauvegardant l'image."
   ]
  },
  {
   "cell_type": "code",
   "execution_count": 24,
   "metadata": {},
   "outputs": [],
   "source": [
    "from io import BytesIO\n",
    "import io\n",
    "from PIL import Image\n",
    "from urllib import request \n",
    "import matplotlib.pyplot as plt \n",
    "import urllib\n",
    "import scipy\n",
    "import imageio"
   ]
  },
  {
   "cell_type": "code",
   "execution_count": 26,
   "metadata": {},
   "outputs": [],
   "source": [
    "def save_google_map(file_name, url):\n",
    "    '''\n",
    "    La fonction enregistre les images. \n",
    "    '''\n",
    "    buffer = BytesIO(request.urlopen(url).read())\n",
    "    image = imageio.imread(buffer, pilmode='RGB')\n",
    "    imageio.imwrite(file_name, image)"
   ]
  },
  {
   "cell_type": "markdown",
   "metadata": {},
   "source": [
    "Importation de la clé Google Map"
   ]
  },
  {
   "cell_type": "code",
   "execution_count": 42,
   "metadata": {},
   "outputs": [],
   "source": [
    "cle_api_file = open(os.path.join(BASE_DIR, \"data/cle_api_paul.txt\"), \"r\")\n",
    "key = cle_api_file.readline()[:-1] # supprime le caractère de fin de ligne \\n"
   ]
  },
  {
   "cell_type": "code",
   "execution_count": 44,
   "metadata": {},
   "outputs": [],
   "source": [
    "size_str = '600x600'\n",
    "description = 'alep'"
   ]
  },
  {
   "cell_type": "code",
   "execution_count": 45,
   "metadata": {},
   "outputs": [
    {
     "data": {
      "text/plain": [
       "(36.16143367034777, 37.09011936115785)"
      ]
     },
     "execution_count": 45,
     "metadata": {},
     "output_type": "execute_result"
    }
   ],
   "source": [
    "lat = coord_images[0][0]\n",
    "lon = coord_images[0][1]\n",
    "lat, lon"
   ]
  },
  {
   "cell_type": "markdown",
   "metadata": {},
   "source": [
    "**Attention**: [Google utilise le format *(lattitude, longitude)* dans son API](https://support.google.com/maps/answer/18539?co=GENIE.Platform%3DAndroid&hl=fr)"
   ]
  },
  {
   "cell_type": "code",
   "execution_count": 36,
   "metadata": {},
   "outputs": [],
   "source": [
    "url = 'https://maps.googleapis.com/maps/api/staticmap?center=' \\\n",
    "        + str(lat) + ',' + str(lon) + '&zoom='+ str(19) \\\n",
    "        + '&size='+ size_str + '&maptype=satellite&key=' + key \n",
    "\n",
    "file_name = description + '_' + str(lon) + '_' + str(lat) +'.jpg'\n",
    "save_google_map(file_name, url)"
   ]
  },
  {
   "cell_type": "markdown",
   "metadata": {},
   "source": [
    "**Téléchargement des images satellite d'Ezzor**"
   ]
  },
  {
   "cell_type": "markdown",
   "metadata": {},
   "source": [
    "Création du dossier regroupant les images satellite d'Ezzor"
   ]
  },
  {
   "cell_type": "code",
   "execution_count": 46,
   "metadata": {},
   "outputs": [],
   "source": [
    "IMAGES_DIR_ALEP = os.path.join(BASE_DIR, \"data/images/alep\", )\n",
    "os.makedirs(IMAGES_DIR_ALEP, exist_ok=True)"
   ]
  },
  {
   "cell_type": "markdown",
   "metadata": {},
   "source": [
    "**Attention**: Pour Alep, il faudra construire en même temps la liste contenant le nom donné à images"
   ]
  },
  {
   "cell_type": "code",
   "execution_count": 52,
   "metadata": {},
   "outputs": [],
   "source": [
    "m = 0 # compteur d'images\n",
    "\n",
    "# ATTENTION VOIR COMMENTAIRE AU DESSUS\n",
    "for coord in coord_images[4904:]:\n",
    "    lat = coord[0]\n",
    "    lon = coord[1]\n",
    "    url = 'https://maps.googleapis.com/maps/api/staticmap?center=' \\\n",
    "        + str(lat) + ',' + str(lon) + '&zoom='+ str(19) \\\n",
    "        + '&size='+ size_str + '&maptype=satellite&key=' + key \n",
    "    file_name = description+ '_' + str(lon) + '_' + str(lat) +'.jpg'\n",
    "    save_google_map(os.path.join(IMAGES_DIR_ALEP, file_name), url)\n",
    "    m += 1"
   ]
  },
  {
   "cell_type": "code",
   "execution_count": 53,
   "metadata": {},
   "outputs": [
    {
     "name": "stdout",
     "output_type": "stream",
     "text": [
      "Nombre d'images téléchargées : 5427\n"
     ]
    }
   ],
   "source": [
    "print(\"Nombre d'images téléchargées : {}\".format(m))"
   ]
  },
  {
   "cell_type": "markdown",
   "metadata": {},
   "source": [
    "### **Associe à chaque observation l'image correspondante**"
   ]
  },
  {
   "cell_type": "code",
   "execution_count": 25,
   "metadata": {},
   "outputs": [],
   "source": [
    "from shapely.geometry import Polygon"
   ]
  },
  {
   "cell_type": "code",
   "execution_count": 26,
   "metadata": {},
   "outputs": [],
   "source": [
    "df_images = pd.DataFrame()"
   ]
  },
  {
   "cell_type": "code",
   "execution_count": 27,
   "metadata": {},
   "outputs": [],
   "source": [
    "def image_associee(description, coord_img):\n",
    "    lat = coord_img[0]\n",
    "    lon = coord_img[1]\n",
    "    file_name = description + '_' + str(lon) + '_' + str(lat) + '.jpg'\n",
    "    return file_name"
   ]
  },
  {
   "cell_type": "code",
   "execution_count": 28,
   "metadata": {},
   "outputs": [],
   "source": [
    "df_images[\"centroide\"] = coord_images\n",
    "df_images[\"zone\"] = [tuple([(point[1], point[0]) for point in poly]) for poly in zone_images] \n",
    "df_images[\"image\"] = df_images[\"centroide\"].apply(lambda x: image_associee(\"alep\", x))\n",
    "\n",
    "# Attention : shapely lit les coordonnees sous la forme (longitude, lattitude)\n",
    "df_images[\"centroide\"] = df_images[\"centroide\"].apply(lambda x: Point(x[1], x[0]))\n",
    "df_images[\"zone\"] = df_images[\"zone\"].apply(lambda x: Polygon(x))"
   ]
  },
  {
   "cell_type": "code",
   "execution_count": 29,
   "metadata": {},
   "outputs": [],
   "source": [
    "def is_in_image(zone, df):\n",
    "    \"\"\" PREREQUIS: La df ne doit contenir que les observations\n",
    "        labelisées 1.\n",
    "        La fonction parcours le dataframe a la recherche d'un\n",
    "        appartenant a l'image, si une image est trouvee, la\n",
    "        fonction retourne 1 et s'arrete.\n",
    "    \"\"\"\n",
    "    for point in df[\"geometry\"]:\n",
    "        if point.within(zone):\n",
    "            return 1\n",
    "    return 0"
   ]
  },
  {
   "cell_type": "code",
   "execution_count": 30,
   "metadata": {},
   "outputs": [
    {
     "name": "stdout",
     "output_type": "stream",
     "text": [
      "Nombre d'images labelisees 1 : 2089 (0.0 %)\n"
     ]
    }
   ],
   "source": [
    "df_images[\"label\"] = [0 for _ in range(df_images.shape[0])]\n",
    "df_images[\"label\"] = df_images[\"zone\"].apply(lambda x: is_in_image(x, df_alep[df_alep[\"label\"] == 1]))\n",
    "\n",
    "nb_1 = df_images[\"label\"].sum()\n",
    "pct_1 = nb_1 / df_images[\"label\"].shape[0]\n",
    "print(\"Nombre d'images labelisees 1 : {0} ({1} %)\".format(nb_1, round(pct_1)))"
   ]
  },
  {
   "cell_type": "code",
   "execution_count": 64,
   "metadata": {},
   "outputs": [
    {
     "data": {
      "text/html": [
       "<div>\n",
       "<style scoped>\n",
       "    .dataframe tbody tr th:only-of-type {\n",
       "        vertical-align: middle;\n",
       "    }\n",
       "\n",
       "    .dataframe tbody tr th {\n",
       "        vertical-align: top;\n",
       "    }\n",
       "\n",
       "    .dataframe thead th {\n",
       "        text-align: right;\n",
       "    }\n",
       "</style>\n",
       "<table border=\"1\" class=\"dataframe\">\n",
       "  <thead>\n",
       "    <tr style=\"text-align: right;\">\n",
       "      <th></th>\n",
       "      <th>centroide</th>\n",
       "      <th>zone</th>\n",
       "      <th>image</th>\n",
       "      <th>label</th>\n",
       "    </tr>\n",
       "  </thead>\n",
       "  <tbody>\n",
       "    <tr>\n",
       "      <th>5184</th>\n",
       "      <td>POINT (37.09011936115785 36.25625321424507)</td>\n",
       "      <td>POLYGON ((36.99672349856794 36.25551243655837,...</td>\n",
       "      <td>ezzor_37.09011936115785_36.25625321424507.jpg</td>\n",
       "      <td>0</td>\n",
       "    </tr>\n",
       "  </tbody>\n",
       "</table>\n",
       "</div>"
      ],
      "text/plain": [
       "                                        centroide  \\\n",
       "5184  POINT (37.09011936115785 36.25625321424507)   \n",
       "\n",
       "                                                   zone  \\\n",
       "5184  POLYGON ((36.99672349856794 36.25551243655837,...   \n",
       "\n",
       "                                              image  label  \n",
       "5184  ezzor_37.09011936115785_36.25625321424507.jpg      0  "
      ]
     },
     "execution_count": 64,
     "metadata": {},
     "output_type": "execute_result"
    }
   ],
   "source": [
    "df_images[df_images[\"label\"]==0]"
   ]
  },
  {
   "cell_type": "code",
   "execution_count": null,
   "metadata": {},
   "outputs": [],
   "source": [
    "# shaply_coord = [Point(y, x) for x, y in df_images['zone']]\n",
    "plt.scatter([point.x for point in shaply_coord], [point.y for point in shaply_coord])\n",
    "plt.show()"
   ]
  },
  {
   "cell_type": "code",
   "execution_count": 42,
   "metadata": {},
   "outputs": [
    {
     "data": {
      "text/html": [
       "<div>\n",
       "<style scoped>\n",
       "    .dataframe tbody tr th:only-of-type {\n",
       "        vertical-align: middle;\n",
       "    }\n",
       "\n",
       "    .dataframe tbody tr th {\n",
       "        vertical-align: top;\n",
       "    }\n",
       "\n",
       "    .dataframe thead th {\n",
       "        text-align: right;\n",
       "    }\n",
       "</style>\n",
       "<table border=\"1\" class=\"dataframe\">\n",
       "  <thead>\n",
       "    <tr style=\"text-align: right;\">\n",
       "      <th></th>\n",
       "      <th>centroide</th>\n",
       "      <th>zone</th>\n",
       "      <th>image</th>\n",
       "      <th>label</th>\n",
       "    </tr>\n",
       "  </thead>\n",
       "  <tbody>\n",
       "    <tr>\n",
       "      <th>0</th>\n",
       "      <td>POINT (37.09011936115785 36.16143367034777)</td>\n",
       "      <td>POLYGON ((37.08938 36.16069, 37.09086 36.16069...</td>\n",
       "      <td>alep_37.09011936115785_36.16143367034777.jpg</td>\n",
       "      <td>0</td>\n",
       "    </tr>\n",
       "    <tr>\n",
       "      <th>1</th>\n",
       "      <td>POINT (37.09160092392516 36.16143367034777)</td>\n",
       "      <td>POLYGON ((37.09086 36.16069, 37.09234 36.16069...</td>\n",
       "      <td>alep_37.091600923925164_36.16143367034777.jpg</td>\n",
       "      <td>0</td>\n",
       "    </tr>\n",
       "    <tr>\n",
       "      <th>2</th>\n",
       "      <td>POINT (37.09308248669247 36.16143367034777)</td>\n",
       "      <td>POLYGON ((37.09234 36.16069, 37.09382 36.16069...</td>\n",
       "      <td>alep_37.093082486692474_36.16143367034777.jpg</td>\n",
       "      <td>0</td>\n",
       "    </tr>\n",
       "    <tr>\n",
       "      <th>3</th>\n",
       "      <td>POINT (37.09456404945978 36.16143367034777)</td>\n",
       "      <td>POLYGON ((37.09382 36.16069, 37.09530 36.16069...</td>\n",
       "      <td>alep_37.094564049459784_36.16143367034777.jpg</td>\n",
       "      <td>0</td>\n",
       "    </tr>\n",
       "    <tr>\n",
       "      <th>4</th>\n",
       "      <td>POINT (37.09604561222709 36.16143367034777)</td>\n",
       "      <td>POLYGON ((37.09530 36.16069, 37.09679 36.16069...</td>\n",
       "      <td>alep_37.096045612227094_36.16143367034777.jpg</td>\n",
       "      <td>0</td>\n",
       "    </tr>\n",
       "    <tr>\n",
       "      <th>...</th>\n",
       "      <td>...</td>\n",
       "      <td>...</td>\n",
       "      <td>...</td>\n",
       "      <td>...</td>\n",
       "    </tr>\n",
       "    <tr>\n",
       "      <th>5422</th>\n",
       "      <td>POINT (37.20271813147342 36.25921632499186)</td>\n",
       "      <td>POLYGON ((37.20198 36.25848, 37.20346 36.25848...</td>\n",
       "      <td>alep_37.202718131473425_36.25921632499186.jpg</td>\n",
       "      <td>0</td>\n",
       "    </tr>\n",
       "    <tr>\n",
       "      <th>5423</th>\n",
       "      <td>POINT (37.20419969424074 36.25921632499186)</td>\n",
       "      <td>POLYGON ((37.20346 36.25848, 37.20494 36.25848...</td>\n",
       "      <td>alep_37.204199694240735_36.25921632499186.jpg</td>\n",
       "      <td>0</td>\n",
       "    </tr>\n",
       "    <tr>\n",
       "      <th>5424</th>\n",
       "      <td>POINT (37.20568125700805 36.25921632499186)</td>\n",
       "      <td>POLYGON ((37.20494 36.25848, 37.20642 36.25848...</td>\n",
       "      <td>alep_37.205681257008045_36.25921632499186.jpg</td>\n",
       "      <td>1</td>\n",
       "    </tr>\n",
       "    <tr>\n",
       "      <th>5425</th>\n",
       "      <td>POINT (37.20716281977536 36.25921632499186)</td>\n",
       "      <td>POLYGON ((37.20642 36.25848, 37.20790 36.25848...</td>\n",
       "      <td>alep_37.207162819775355_36.25921632499186.jpg</td>\n",
       "      <td>1</td>\n",
       "    </tr>\n",
       "    <tr>\n",
       "      <th>5426</th>\n",
       "      <td>POINT (37.20864438254267 36.25921632499186)</td>\n",
       "      <td>POLYGON ((37.20790 36.25848, 37.20939 36.25848...</td>\n",
       "      <td>alep_37.208644382542666_36.25921632499186.jpg</td>\n",
       "      <td>0</td>\n",
       "    </tr>\n",
       "  </tbody>\n",
       "</table>\n",
       "<p>5427 rows × 4 columns</p>\n",
       "</div>"
      ],
      "text/plain": [
       "                                        centroide  \\\n",
       "0     POINT (37.09011936115785 36.16143367034777)   \n",
       "1     POINT (37.09160092392516 36.16143367034777)   \n",
       "2     POINT (37.09308248669247 36.16143367034777)   \n",
       "3     POINT (37.09456404945978 36.16143367034777)   \n",
       "4     POINT (37.09604561222709 36.16143367034777)   \n",
       "...                                           ...   \n",
       "5422  POINT (37.20271813147342 36.25921632499186)   \n",
       "5423  POINT (37.20419969424074 36.25921632499186)   \n",
       "5424  POINT (37.20568125700805 36.25921632499186)   \n",
       "5425  POINT (37.20716281977536 36.25921632499186)   \n",
       "5426  POINT (37.20864438254267 36.25921632499186)   \n",
       "\n",
       "                                                   zone  \\\n",
       "0     POLYGON ((37.08938 36.16069, 37.09086 36.16069...   \n",
       "1     POLYGON ((37.09086 36.16069, 37.09234 36.16069...   \n",
       "2     POLYGON ((37.09234 36.16069, 37.09382 36.16069...   \n",
       "3     POLYGON ((37.09382 36.16069, 37.09530 36.16069...   \n",
       "4     POLYGON ((37.09530 36.16069, 37.09679 36.16069...   \n",
       "...                                                 ...   \n",
       "5422  POLYGON ((37.20198 36.25848, 37.20346 36.25848...   \n",
       "5423  POLYGON ((37.20346 36.25848, 37.20494 36.25848...   \n",
       "5424  POLYGON ((37.20494 36.25848, 37.20642 36.25848...   \n",
       "5425  POLYGON ((37.20642 36.25848, 37.20790 36.25848...   \n",
       "5426  POLYGON ((37.20790 36.25848, 37.20939 36.25848...   \n",
       "\n",
       "                                              image  label  \n",
       "0      alep_37.09011936115785_36.16143367034777.jpg      0  \n",
       "1     alep_37.091600923925164_36.16143367034777.jpg      0  \n",
       "2     alep_37.093082486692474_36.16143367034777.jpg      0  \n",
       "3     alep_37.094564049459784_36.16143367034777.jpg      0  \n",
       "4     alep_37.096045612227094_36.16143367034777.jpg      0  \n",
       "...                                             ...    ...  \n",
       "5422  alep_37.202718131473425_36.25921632499186.jpg      0  \n",
       "5423  alep_37.204199694240735_36.25921632499186.jpg      0  \n",
       "5424  alep_37.205681257008045_36.25921632499186.jpg      1  \n",
       "5425  alep_37.207162819775355_36.25921632499186.jpg      1  \n",
       "5426  alep_37.208644382542666_36.25921632499186.jpg      0  \n",
       "\n",
       "[5427 rows x 4 columns]"
      ]
     },
     "execution_count": 42,
     "metadata": {},
     "output_type": "execute_result"
    }
   ],
   "source": [
    "df_images = gpd.GeoDataFrame(df_images, geometry = 'zone')\n",
    "df_images"
   ]
  },
  {
   "cell_type": "code",
   "execution_count": 60,
   "metadata": {},
   "outputs": [
    {
     "data": {
      "text/plain": [
       "0.38492721577298694"
      ]
     },
     "execution_count": 60,
     "metadata": {},
     "output_type": "execute_result"
    }
   ],
   "source": [
    "df_images['label'].mean()"
   ]
  },
  {
   "cell_type": "code",
   "execution_count": 53,
   "metadata": {},
   "outputs": [
    {
     "data": {
      "image/png": "[encoded data removed]",
      "text/plain": [
       "<Figure size 1008x1008 with 1 Axes>"
      ]
     },
     "metadata": {
      "needs_background": "light"
     },
     "output_type": "display_data"
    }
   ],
   "source": [
    "ax = gpd.GeoSeries(shaply_coord).plot(figsize=(14,14), markersize=10)\n",
    "geo_alep.plot(column='label',legend=True,figsize=(14,14), ax=ax)\n",
    "plt.show()\n"
   ]
  },
  {
   "cell_type": "code",
   "execution_count": 58,
   "metadata": {},
   "outputs": [
    {
     "data": {
      "image/png": "[encoded data removed]",
      "text/plain": [
       "<Figure size 1008x1008 with 2 Axes>"
      ]
     },
     "metadata": {
      "needs_background": "light"
     },
     "output_type": "display_data"
    }
   ],
   "source": [
    "df_images = gpd.GeoDataFrame(df_images, geometry = 'zone')\n",
    "ax = df_images['zone'][0:100].plot(figsize=(14,14), edgecolor='black', alpha=0.2)\n",
    "geo_alep[geo_alep['label']==1].plot(column='label',legend=True,figsize=(14,14), ax=ax)\n",
    "plt.show()"
   ]
  },
  {
   "cell_type": "code",
   "execution_count": 64,
   "metadata": {},
   "outputs": [
    {
     "data": {
      "image/png": "[encoded data removed]",
      "text/plain": [
       "<Figure size 1008x1008 with 2 Axes>"
      ]
     },
     "metadata": {
      "needs_background": "light"
     },
     "output_type": "display_data"
    }
   ],
   "source": [
    "df_images.plot(column='label',legend=True,figsize=(14,14))\n",
    "plt.show()"
   ]
  },
  {
   "cell_type": "markdown",
   "metadata": {},
   "source": [
    "## **Réagencement des images pour être chargé depuis le DataLoader de PyTorch**"
   ]
  },
  {
   "cell_type": "code",
   "execution_count": 66,
   "metadata": {},
   "outputs": [],
   "source": [
    "nom_images_torchvision = []\n",
    "for i in range(df_images.shape[0]):\n",
    "    nom_images_torchvision.append('alep_' + str(i).zfill(4) + '.jpg')\n",
    "    \n",
    "df_images['nom_images_torchvision'] = nom_images_torchvision"
   ]
  },
  {
   "cell_type": "code",
   "execution_count": 72,
   "metadata": {},
   "outputs": [],
   "source": [
    "for i in range(df_images.shape[0]):\n",
    "    ancien_nom_image = df_images.loc[i, \"image\"]\n",
    "    nouveau_nom_image = df_images.loc[i, \"nom_images_torchvision\"]\n",
    "    os.rename(os.path.join(IMAGES_DIR, ancien_nom_image), os.path.join(IMAGES_DIR, nouveau_nom_image))"
   ]
  },
  {
   "cell_type": "markdown",
   "metadata": {},
   "source": [
    "### **Split Train - Test**"
   ]
  },
  {
   "cell_type": "code",
   "execution_count": 74,
   "metadata": {},
   "outputs": [],
   "source": [
    "os.makedirs(os.path.join(IMAGES_DIR, \"train\"), exist_ok=True)\n",
    "os.makedirs(os.path.join(IMAGES_DIR, \"test\"), exist_ok=True)"
   ]
  },
  {
   "cell_type": "code",
   "execution_count": 75,
   "metadata": {},
   "outputs": [],
   "source": [
    "np.random.seed(42)\n",
    "test_size = 0.3\n",
    "\n",
    "segment = [\"train\"] * df_images.shape[0]\n",
    "df_images[\"segment\"] = segment\n",
    "df_images[\"segment\"] = df_images[\"segment\"].apply(lambda x: \"test\" if np.random.random() < test_size else \"train\")"
   ]
  },
  {
   "cell_type": "code",
   "execution_count": 77,
   "metadata": {},
   "outputs": [
    {
     "name": "stdout",
     "output_type": "stream",
     "text": [
      "Taille des échantillons : train = 3778 / test = 1649\n"
     ]
    }
   ],
   "source": [
    "print(\"Taille des échantillons : train = {} / test = {}\".format(df_images[df_images[\"segment\"] == \"train\"].shape[0],\n",
    "                                                               df_images[df_images[\"segment\"] == \"test\"].shape[0]))"
   ]
  },
  {
   "cell_type": "code",
   "execution_count": 78,
   "metadata": {},
   "outputs": [
    {
     "name": "stdout",
     "output_type": "stream",
     "text": [
      "Proportion de d'images labelisées 1 : train = 0.39 / test = 0.38\n"
     ]
    }
   ],
   "source": [
    "print(\"Proportion de d'images labelisées 1 : train = {} / test = {}\".format(round(df_images[df_images[\"segment\"] == \"train\"][\"label\"].mean(), 2),\n",
    "                                                                            round(df_images[df_images[\"segment\"] == \"test\"][\"label\"].mean(), 2)))"
   ]
  },
  {
   "cell_type": "code",
   "execution_count": 79,
   "metadata": {},
   "outputs": [
    {
     "data": {
      "text/html": [
       "<div>\n",
       "<style scoped>\n",
       "    .dataframe tbody tr th:only-of-type {\n",
       "        vertical-align: middle;\n",
       "    }\n",
       "\n",
       "    .dataframe tbody tr th {\n",
       "        vertical-align: top;\n",
       "    }\n",
       "\n",
       "    .dataframe thead th {\n",
       "        text-align: right;\n",
       "    }\n",
       "</style>\n",
       "<table border=\"1\" class=\"dataframe\">\n",
       "  <thead>\n",
       "    <tr style=\"text-align: right;\">\n",
       "      <th></th>\n",
       "      <th>centroide</th>\n",
       "      <th>zone</th>\n",
       "      <th>image</th>\n",
       "      <th>label</th>\n",
       "      <th>nom_images_torchvision</th>\n",
       "      <th>segment</th>\n",
       "    </tr>\n",
       "  </thead>\n",
       "  <tbody>\n",
       "    <tr>\n",
       "      <th>0</th>\n",
       "      <td>POINT (37.09011936115785 36.16143367034777)</td>\n",
       "      <td>POLYGON ((37.08938 36.16069, 37.09086 36.16069...</td>\n",
       "      <td>alep_37.09011936115785_36.16143367034777.jpg</td>\n",
       "      <td>0</td>\n",
       "      <td>alep_0000.jpg</td>\n",
       "      <td>train</td>\n",
       "    </tr>\n",
       "    <tr>\n",
       "      <th>1</th>\n",
       "      <td>POINT (37.09160092392516 36.16143367034777)</td>\n",
       "      <td>POLYGON ((37.09086 36.16069, 37.09234 36.16069...</td>\n",
       "      <td>alep_37.091600923925164_36.16143367034777.jpg</td>\n",
       "      <td>0</td>\n",
       "      <td>alep_0001.jpg</td>\n",
       "      <td>train</td>\n",
       "    </tr>\n",
       "    <tr>\n",
       "      <th>2</th>\n",
       "      <td>POINT (37.09308248669247 36.16143367034777)</td>\n",
       "      <td>POLYGON ((37.09234 36.16069, 37.09382 36.16069...</td>\n",
       "      <td>alep_37.093082486692474_36.16143367034777.jpg</td>\n",
       "      <td>0</td>\n",
       "      <td>alep_0002.jpg</td>\n",
       "      <td>train</td>\n",
       "    </tr>\n",
       "  </tbody>\n",
       "</table>\n",
       "</div>"
      ],
      "text/plain": [
       "                                     centroide  \\\n",
       "0  POINT (37.09011936115785 36.16143367034777)   \n",
       "1  POINT (37.09160092392516 36.16143367034777)   \n",
       "2  POINT (37.09308248669247 36.16143367034777)   \n",
       "\n",
       "                                                zone  \\\n",
       "0  POLYGON ((37.08938 36.16069, 37.09086 36.16069...   \n",
       "1  POLYGON ((37.09086 36.16069, 37.09234 36.16069...   \n",
       "2  POLYGON ((37.09234 36.16069, 37.09382 36.16069...   \n",
       "\n",
       "                                           image  label  \\\n",
       "0   alep_37.09011936115785_36.16143367034777.jpg      0   \n",
       "1  alep_37.091600923925164_36.16143367034777.jpg      0   \n",
       "2  alep_37.093082486692474_36.16143367034777.jpg      0   \n",
       "\n",
       "  nom_images_torchvision segment  \n",
       "0          alep_0000.jpg   train  \n",
       "1          alep_0001.jpg   train  \n",
       "2          alep_0002.jpg   train  "
      ]
     },
     "execution_count": 79,
     "metadata": {},
     "output_type": "execute_result"
    }
   ],
   "source": [
    "df_images.head(3)"
   ]
  },
  {
   "cell_type": "markdown",
   "metadata": {},
   "source": [
    "### **Structuration des fichiers respectant les attentes de PyTorch**"
   ]
  },
  {
   "cell_type": "code",
   "execution_count": 81,
   "metadata": {},
   "outputs": [],
   "source": [
    "os.makedirs(os.path.join(IMAGES_DIR, \"train\", \"0\"), exist_ok=True)\n",
    "os.makedirs(os.path.join(IMAGES_DIR, \"train\", \"1\"), exist_ok=True)\n",
    "os.makedirs(os.path.join(IMAGES_DIR, \"test\", \"0\"), exist_ok=True)\n",
    "os.makedirs(os.path.join(IMAGES_DIR, \"test\", \"1\"), exist_ok=True)"
   ]
  },
  {
   "cell_type": "code",
   "execution_count": 82,
   "metadata": {},
   "outputs": [],
   "source": [
    "for i in range(df_images.shape[0]):\n",
    "    label = df_images.loc[i, \"label\"]\n",
    "    label = str(label)\n",
    "    segment = df_images.loc[i, \"segment\"]\n",
    "    nom_image = df_images.loc[i, \"nom_images_torchvision\"]\n",
    "    os.replace(os.path.join(IMAGES_DIR, nom_image),\n",
    "               os.path.join(IMAGES_DIR, segment, label, nom_image))"
   ]
  },
  {
   "cell_type": "markdown",
   "metadata": {},
   "source": [
    "### **Sauvegarde de la base de données en .csv**"
   ]
  },
  {
   "cell_type": "code",
   "execution_count": 84,
   "metadata": {},
   "outputs": [],
   "source": [
    "df_images.to_csv(os.path.join(DATA_DIR, \"images_label_alep.csv\"), index=False)"
   ]
  }
 ],
 "metadata": {
  "kernelspec": {
   "display_name": "sat",
   "language": "python",
   "name": "sat"
  },
  "language_info": {
   "codemirror_mode": {
    "name": "ipython",
    "version": 3
   },
   "file_extension": ".py",
   "mimetype": "text/x-python",
   "name": "python",
   "nbconvert_exporter": "python",
   "pygments_lexer": "ipython3",
   "version": "3.7.6"
  }
 },
 "nbformat": 4,
 "nbformat_minor": 4
}
