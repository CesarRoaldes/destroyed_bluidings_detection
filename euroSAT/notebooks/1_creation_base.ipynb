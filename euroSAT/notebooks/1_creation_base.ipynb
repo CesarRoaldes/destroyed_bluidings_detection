{
 "cells": [
  {
   "cell_type": "markdown",
   "metadata": {},
   "source": [
    "# **Création des images de la base de donnée euroSAT**"
   ]
  },
  {
   "cell_type": "markdown",
   "metadata": {},
   "source": [
    "**Source :** Les images sont téléchargé depuis le répertoire Github [EuroSAT: Land Use and Land Cover Classification with Sentinel-2 ](https://github.com/phelber/eurosat)  \n",
    "  \n",
    "Les **papiers d'origine** depuis lesquelles provient la base geo-referencée euroSAT sont :\n",
    "- [1] Eurosat: A novel dataset and deep learning benchmark for land use and land cover classification. Patrick Helber, Benjamin Bischke, Andreas Dengel, Damian Borth. IEEE Journal of Selected Topics in Applied Earth Observations and Remote Sensing, 2019.  \n",
    "\n",
    "- [2] Introducing EuroSAT: A Novel Dataset and Deep Learning Benchmark for Land Use and Land Cover Classification. Patrick Helber, Benjamin Bischke, Andreas Dengel. 2018 IEEE International Geoscience and Remote Sensing Symposium, 2018."
   ]
  },
  {
   "cell_type": "markdown",
   "metadata": {},
   "source": [
    "### **Construction d'une base de donnée**  \n",
    "Les informations contenues dans cette base seront :\n",
    "- le nom donné à l'image\n",
    "- le path vers l'image\n",
    "- son label"
   ]
  },
  {
   "cell_type": "code",
   "execution_count": 2,
   "metadata": {},
   "outputs": [],
   "source": [
    "import os\n",
    "import pandas as pd\n",
    "import numpy as np"
   ]
  },
  {
   "cell_type": "markdown",
   "metadata": {},
   "source": [
    "*Préalable* : Durant ce notebook, nous supposerons que le dossier contenant les données téléchargées s'appelle *euroSAT_dataset* et est stocké dans le dossier *euroSAT*."
   ]
  },
  {
   "cell_type": "code",
   "execution_count": 3,
   "metadata": {},
   "outputs": [],
   "source": [
    "DATA_DIR = \"../euroSAT_dataset\""
   ]
  },
  {
   "cell_type": "markdown",
   "metadata": {},
   "source": [
    "Récupération des labels de la base.\n",
    "\n",
    "*Remarque* : Les valeurs *\".ipynb_checkpoints\"* et *\"image_label.csv\"* ne devraient pas être présentes, elles figurent dans la sortie de la cellule car celle-ci a été relancée plus tard dans la création du notebook. Nous ne pouvons plus relancer cette cellule car les images seront déplacées par la suite, ignorez seulement ces deux résultats."
   ]
  },
  {
   "cell_type": "code",
   "execution_count": 135,
   "metadata": {},
   "outputs": [
    {
     "name": "stdout",
     "output_type": "stream",
     "text": [
      "1. PermanentCrop\n",
      "2. Pasture\n",
      "3. Industrial\n",
      "4. HerbaceousVegetation\n",
      "5. AnnualCrop\n",
      "6. Residential\n",
      "7. Highway\n",
      "8. River\n",
      "9. SeaLake\n",
      "10. .ipynb_checkpoints\n",
      "11. Forest\n",
      "12. image_label.csv\n"
     ]
    }
   ],
   "source": [
    "labels = os.listdir(DATA_DIR)\n",
    "for i, label in enumerate(labels):\n",
    "    print(str(i + 1) + \". \" + label)"
   ]
  },
  {
   "cell_type": "markdown",
   "metadata": {},
   "source": [
    "Création du chemin vers les dossiers contenant les images pour chaque label."
   ]
  },
  {
   "cell_type": "code",
   "execution_count": 136,
   "metadata": {},
   "outputs": [],
   "source": [
    "PermanentCrop_DIR = os.path.join(DATA_DIR, 'PermanentCrop')\n",
    "Pasture_DIR = os.path.join(DATA_DIR, 'Pasture')\n",
    "Industrial_DIR = os.path.join(DATA_DIR, 'Industrial')\n",
    "HerbaceousVegetation_DIR = os.path.join(DATA_DIR, 'HerbaceousVegetation')\n",
    "AnnualCrop_DIR = os.path.join(DATA_DIR, 'AnnualCrop')\n",
    "Residential_DIR = os.path.join(DATA_DIR, 'Residential')\n",
    "Highway_DIR = os.path.join(DATA_DIR, 'Highway')\n",
    "River_DIR = os.path.join(DATA_DIR, 'River')\n",
    "SeaLake_DIR = os.path.join(DATA_DIR, 'SeaLake')\n",
    "Forest_DIR = os.path.join(DATA_DIR, 'Forest')"
   ]
  },
  {
   "cell_type": "markdown",
   "metadata": {},
   "source": [
    "Récupération du nom des images contenues dans ces derniers."
   ]
  },
  {
   "cell_type": "code",
   "execution_count": 137,
   "metadata": {},
   "outputs": [],
   "source": [
    "PermanentCrop_IMG = os.listdir(PermanentCrop_DIR)\n",
    "Pasture_IMG = os.listdir(Pasture_DIR)\n",
    "Industrial_IMG = os.listdir(Industrial_DIR)\n",
    "HerbaceousVegetation_IMG = os.listdir(HerbaceousVegetation_DIR)\n",
    "AnnualCrop_IMG = os.listdir(AnnualCrop_DIR)\n",
    "Residential_IMG = os.listdir(Residential_DIR)\n",
    "Highway_IMG = os.listdir(Highway_DIR)\n",
    "River_IMG = os.listdir(River_DIR)\n",
    "SeaLake_IMG = os.listdir(SeaLake_DIR)\n",
    "Forest_IMG = os.listdir(Forest_DIR)"
   ]
  },
  {
   "cell_type": "markdown",
   "metadata": {},
   "source": [
    "Aggrégation des résultats."
   ]
  },
  {
   "cell_type": "code",
   "execution_count": 138,
   "metadata": {},
   "outputs": [],
   "source": [
    "all_IMG = PermanentCrop_IMG \\\n",
    "            + Pasture_IMG \\\n",
    "            + Industrial_IMG \\\n",
    "            + HerbaceousVegetation_IMG \\\n",
    "            + AnnualCrop_IMG \\\n",
    "            + Residential_IMG \\\n",
    "            + Highway_IMG \\\n",
    "            + River_IMG \\\n",
    "            + SeaLake_IMG \\\n",
    "            + Forest_IMG"
   ]
  },
  {
   "cell_type": "code",
   "execution_count": 139,
   "metadata": {},
   "outputs": [
    {
     "name": "stdout",
     "output_type": "stream",
     "text": [
      "Nous avons dans chaque dossier le nombre d'image suivant :\n",
      "2500 2000 2500 3000 3000 3000 2500 2500 3000 3000\n",
      "Pour un total de 27000 images.\n"
     ]
    }
   ],
   "source": [
    "print(\"Nous avons dans chaque dossier le nombre d'image suivant :\")\n",
    "print(len(PermanentCrop_IMG),\n",
    "len(Pasture_IMG),\n",
    "len(Industrial_IMG),\n",
    "len(HerbaceousVegetation_IMG),\n",
    "len(AnnualCrop_IMG),\n",
    "len(Residential_IMG),\n",
    "len(Highway_IMG),\n",
    "len(River_IMG),\n",
    "len(SeaLake_IMG),\n",
    "len(Forest_IMG))\n",
    "print(\"Pour un total de {} images.\".format(len(all_IMG)))"
   ]
  },
  {
   "cell_type": "markdown",
   "metadata": {},
   "source": [
    "Création d'une liste de dictionnaires contenant le nom de l'image (clé: `image`), le chemin vers cette image (clé: `path`), et son label (clé: `label`). Ce format nous permettra de convetir efficacement cette liste au format `pd.DataFrame`."
   ]
  },
  {
   "cell_type": "code",
   "execution_count": 140,
   "metadata": {},
   "outputs": [],
   "source": [
    "liste_dic = [{'image': image,\n",
    "              'path': os.path.join(DATA_DIR, str.split(image, sep=\"_\")[0], image),\n",
    "              'label': str.split(image, sep=\"_\")[0]} \\\n",
    "             for image in all_IMG]"
   ]
  },
  {
   "cell_type": "markdown",
   "metadata": {},
   "source": [
    "Conversion en `DataFrame`."
   ]
  },
  {
   "cell_type": "code",
   "execution_count": 141,
   "metadata": {},
   "outputs": [
    {
     "name": "stdout",
     "output_type": "stream",
     "text": [
      "Dimension de notre base de donnée : (27000, 3)\n"
     ]
    },
    {
     "data": {
      "text/html": [
       "<div>\n",
       "<style scoped>\n",
       "    .dataframe tbody tr th:only-of-type {\n",
       "        vertical-align: middle;\n",
       "    }\n",
       "\n",
       "    .dataframe tbody tr th {\n",
       "        vertical-align: top;\n",
       "    }\n",
       "\n",
       "    .dataframe thead th {\n",
       "        text-align: right;\n",
       "    }\n",
       "</style>\n",
       "<table border=\"1\" class=\"dataframe\">\n",
       "  <thead>\n",
       "    <tr style=\"text-align: right;\">\n",
       "      <th></th>\n",
       "      <th>image</th>\n",
       "      <th>path</th>\n",
       "      <th>label</th>\n",
       "    </tr>\n",
       "  </thead>\n",
       "  <tbody>\n",
       "    <tr>\n",
       "      <th>0</th>\n",
       "      <td>PermanentCrop_534.jpg</td>\n",
       "      <td>../euroSAT_dataset/PermanentCrop/PermanentCrop...</td>\n",
       "      <td>PermanentCrop</td>\n",
       "    </tr>\n",
       "    <tr>\n",
       "      <th>1</th>\n",
       "      <td>PermanentCrop_1297.jpg</td>\n",
       "      <td>../euroSAT_dataset/PermanentCrop/PermanentCrop...</td>\n",
       "      <td>PermanentCrop</td>\n",
       "    </tr>\n",
       "    <tr>\n",
       "      <th>2</th>\n",
       "      <td>PermanentCrop_1651.jpg</td>\n",
       "      <td>../euroSAT_dataset/PermanentCrop/PermanentCrop...</td>\n",
       "      <td>PermanentCrop</td>\n",
       "    </tr>\n",
       "    <tr>\n",
       "      <th>3</th>\n",
       "      <td>PermanentCrop_755.jpg</td>\n",
       "      <td>../euroSAT_dataset/PermanentCrop/PermanentCrop...</td>\n",
       "      <td>PermanentCrop</td>\n",
       "    </tr>\n",
       "    <tr>\n",
       "      <th>4</th>\n",
       "      <td>PermanentCrop_2411.jpg</td>\n",
       "      <td>../euroSAT_dataset/PermanentCrop/PermanentCrop...</td>\n",
       "      <td>PermanentCrop</td>\n",
       "    </tr>\n",
       "  </tbody>\n",
       "</table>\n",
       "</div>"
      ],
      "text/plain": [
       "                    image                                               path  \\\n",
       "0   PermanentCrop_534.jpg  ../euroSAT_dataset/PermanentCrop/PermanentCrop...   \n",
       "1  PermanentCrop_1297.jpg  ../euroSAT_dataset/PermanentCrop/PermanentCrop...   \n",
       "2  PermanentCrop_1651.jpg  ../euroSAT_dataset/PermanentCrop/PermanentCrop...   \n",
       "3   PermanentCrop_755.jpg  ../euroSAT_dataset/PermanentCrop/PermanentCrop...   \n",
       "4  PermanentCrop_2411.jpg  ../euroSAT_dataset/PermanentCrop/PermanentCrop...   \n",
       "\n",
       "           label  \n",
       "0  PermanentCrop  \n",
       "1  PermanentCrop  \n",
       "2  PermanentCrop  \n",
       "3  PermanentCrop  \n",
       "4  PermanentCrop  "
      ]
     },
     "execution_count": 141,
     "metadata": {},
     "output_type": "execute_result"
    }
   ],
   "source": [
    "base = pd.DataFrame(liste_dic)\n",
    "\n",
    "print(\"Dimension de notre base de donnée : {}\".format(base.shape))\n",
    "base.head(5)"
   ]
  },
  {
   "cell_type": "markdown",
   "metadata": {},
   "source": [
    "Sauvegarde de la base de donnée."
   ]
  },
  {
   "cell_type": "code",
   "execution_count": 142,
   "metadata": {},
   "outputs": [],
   "source": [
    "base.to_csv(os.path.join(DATA_DIR, 'image_label.csv'), index=False)"
   ]
  },
  {
   "cell_type": "markdown",
   "metadata": {},
   "source": [
    "### **Séparation des échantillons train / test**"
   ]
  },
  {
   "cell_type": "markdown",
   "metadata": {},
   "source": [
    "On sauvegarde dans une nouvelle colonne appellée `old_path` le chemin actuelle vers nos images. Le colonne `path` sera ensuite modifiée pour correspondre au future emplacement de l'image et ainsi, répondre à l'agencement des données exigé par le `DataLoader` de `PyTorch`."
   ]
  },
  {
   "cell_type": "code",
   "execution_count": 144,
   "metadata": {},
   "outputs": [],
   "source": [
    "base['old_path'] = base['path']"
   ]
  },
  {
   "cell_type": "code",
   "execution_count": 146,
   "metadata": {},
   "outputs": [],
   "source": [
    "def train_test_split(path):\n",
    "    \"\"\" Associe aleatoirement à chaque image son segment\n",
    "        (train ou test) et retourne le path correspondant\n",
    "        au label + segment auquel l'image appartient.\n",
    "    \"\"\"\n",
    "    path_list = str.split(path, sep=\"/\")\n",
    "    rng = np.random.random()\n",
    "    if rng < 0.8:\n",
    "        segment = 'train'\n",
    "    else:\n",
    "        segment = 'test'\n",
    "    path_list = path_list[:2] + [segment] + path_list[2:]\n",
    "    return [\"/\".join(path_list), segment]"
   ]
  },
  {
   "cell_type": "markdown",
   "metadata": {},
   "source": [
    "L'aléa est fixé afin d'asurer la reproductibilité de nos résultats."
   ]
  },
  {
   "cell_type": "code",
   "execution_count": 147,
   "metadata": {},
   "outputs": [],
   "source": [
    "np.random.seed(42)\n",
    "\n",
    "liste_new_path = []\n",
    "liste_segment = []\n",
    "for i in range(base.shape[0]):\n",
    "    resultat = train_test_split(base.loc[i, 'path'])\n",
    "    liste_new_path.append(resultat[0])\n",
    "    liste_segment.append(resultat[1])"
   ]
  },
  {
   "cell_type": "code",
   "execution_count": 148,
   "metadata": {},
   "outputs": [],
   "source": [
    "base['segment'] = liste_segment\n",
    "base['path'] = liste_new_path"
   ]
  },
  {
   "cell_type": "code",
   "execution_count": 149,
   "metadata": {},
   "outputs": [
    {
     "data": {
      "text/html": [
       "<div>\n",
       "<style scoped>\n",
       "    .dataframe tbody tr th:only-of-type {\n",
       "        vertical-align: middle;\n",
       "    }\n",
       "\n",
       "    .dataframe tbody tr th {\n",
       "        vertical-align: top;\n",
       "    }\n",
       "\n",
       "    .dataframe thead th {\n",
       "        text-align: right;\n",
       "    }\n",
       "</style>\n",
       "<table border=\"1\" class=\"dataframe\">\n",
       "  <thead>\n",
       "    <tr style=\"text-align: right;\">\n",
       "      <th></th>\n",
       "      <th>image</th>\n",
       "      <th>path</th>\n",
       "      <th>label</th>\n",
       "      <th>old_path</th>\n",
       "      <th>segment</th>\n",
       "    </tr>\n",
       "  </thead>\n",
       "  <tbody>\n",
       "    <tr>\n",
       "      <th>0</th>\n",
       "      <td>PermanentCrop_534.jpg</td>\n",
       "      <td>../euroSAT_dataset/train/PermanentCrop/Permane...</td>\n",
       "      <td>PermanentCrop</td>\n",
       "      <td>../euroSAT_dataset/PermanentCrop/PermanentCrop...</td>\n",
       "      <td>train</td>\n",
       "    </tr>\n",
       "    <tr>\n",
       "      <th>1</th>\n",
       "      <td>PermanentCrop_1297.jpg</td>\n",
       "      <td>../euroSAT_dataset/test/PermanentCrop/Permanen...</td>\n",
       "      <td>PermanentCrop</td>\n",
       "      <td>../euroSAT_dataset/PermanentCrop/PermanentCrop...</td>\n",
       "      <td>test</td>\n",
       "    </tr>\n",
       "    <tr>\n",
       "      <th>2</th>\n",
       "      <td>PermanentCrop_1651.jpg</td>\n",
       "      <td>../euroSAT_dataset/train/PermanentCrop/Permane...</td>\n",
       "      <td>PermanentCrop</td>\n",
       "      <td>../euroSAT_dataset/PermanentCrop/PermanentCrop...</td>\n",
       "      <td>train</td>\n",
       "    </tr>\n",
       "    <tr>\n",
       "      <th>3</th>\n",
       "      <td>PermanentCrop_755.jpg</td>\n",
       "      <td>../euroSAT_dataset/train/PermanentCrop/Permane...</td>\n",
       "      <td>PermanentCrop</td>\n",
       "      <td>../euroSAT_dataset/PermanentCrop/PermanentCrop...</td>\n",
       "      <td>train</td>\n",
       "    </tr>\n",
       "    <tr>\n",
       "      <th>4</th>\n",
       "      <td>PermanentCrop_2411.jpg</td>\n",
       "      <td>../euroSAT_dataset/train/PermanentCrop/Permane...</td>\n",
       "      <td>PermanentCrop</td>\n",
       "      <td>../euroSAT_dataset/PermanentCrop/PermanentCrop...</td>\n",
       "      <td>train</td>\n",
       "    </tr>\n",
       "  </tbody>\n",
       "</table>\n",
       "</div>"
      ],
      "text/plain": [
       "                    image                                               path  \\\n",
       "0   PermanentCrop_534.jpg  ../euroSAT_dataset/train/PermanentCrop/Permane...   \n",
       "1  PermanentCrop_1297.jpg  ../euroSAT_dataset/test/PermanentCrop/Permanen...   \n",
       "2  PermanentCrop_1651.jpg  ../euroSAT_dataset/train/PermanentCrop/Permane...   \n",
       "3   PermanentCrop_755.jpg  ../euroSAT_dataset/train/PermanentCrop/Permane...   \n",
       "4  PermanentCrop_2411.jpg  ../euroSAT_dataset/train/PermanentCrop/Permane...   \n",
       "\n",
       "           label                                           old_path segment  \n",
       "0  PermanentCrop  ../euroSAT_dataset/PermanentCrop/PermanentCrop...   train  \n",
       "1  PermanentCrop  ../euroSAT_dataset/PermanentCrop/PermanentCrop...    test  \n",
       "2  PermanentCrop  ../euroSAT_dataset/PermanentCrop/PermanentCrop...   train  \n",
       "3  PermanentCrop  ../euroSAT_dataset/PermanentCrop/PermanentCrop...   train  \n",
       "4  PermanentCrop  ../euroSAT_dataset/PermanentCrop/PermanentCrop...   train  "
      ]
     },
     "execution_count": 149,
     "metadata": {},
     "output_type": "execute_result"
    }
   ],
   "source": [
    "base.head()"
   ]
  },
  {
   "cell_type": "markdown",
   "metadata": {},
   "source": [
    "Enregistrement de la base."
   ]
  },
  {
   "cell_type": "code",
   "execution_count": 150,
   "metadata": {},
   "outputs": [],
   "source": [
    "base.to_csv(os.path.join(DATA_DIR, 'image_label.csv'), index=False)"
   ]
  },
  {
   "cell_type": "markdown",
   "metadata": {},
   "source": [
    "### **Modification de l'organisation des images pour le `DataLoader`**"
   ]
  },
  {
   "cell_type": "markdown",
   "metadata": {},
   "source": [
    "Création des différents dossier"
   ]
  },
  {
   "cell_type": "code",
   "execution_count": null,
   "metadata": {},
   "outputs": [],
   "source": [
    "os.makedirs(os.path.join(DATA_DIR, 'train'), exist_ok=True)\n",
    "os.makedirs(os.path.join(DATA_DIR, 'test'), exist_ok=True)"
   ]
  },
  {
   "cell_type": "code",
   "execution_count": 158,
   "metadata": {},
   "outputs": [],
   "source": [
    "for label in labels:\n",
    "    os.makedirs(os.path.join(DATA_DIR, 'train', label), exist_ok=True)\n",
    "    os.makedirs(os.path.join(DATA_DIR, 'test', label), exist_ok=True)"
   ]
  },
  {
   "cell_type": "markdown",
   "metadata": {},
   "source": [
    "Déplacement des images depuis leur emplacement actuelle `old_path` vers leur nouvel emplacement `path`."
   ]
  },
  {
   "cell_type": "code",
   "execution_count": 159,
   "metadata": {},
   "outputs": [],
   "source": [
    "for i in range(base.shape[0]):\n",
    "    os.replace(base.loc[i, 'old_path'], base.loc[i, 'path'])"
   ]
  },
  {
   "cell_type": "code",
   "execution_count": 6,
   "metadata": {},
   "outputs": [],
   "source": [
    "base = pd.read_csv(os.path.join(DATA_DIR, 'image_label.csv'))"
   ]
  },
  {
   "cell_type": "markdown",
   "metadata": {},
   "source": [
    "### **Résumé des images contenues dans les échantillons train et test**"
   ]
  },
  {
   "cell_type": "code",
   "execution_count": 9,
   "metadata": {},
   "outputs": [
    {
     "name": "stdout",
     "output_type": "stream",
     "text": [
      "Nombre d'images par label dans l'échantillon train :\n",
      "HerbaceousVegetation    2444\n",
      "Forest                  2433\n",
      "Residential             2389\n",
      "SeaLake                 2387\n",
      "AnnualCrop              2382\n",
      "Highway                 2010\n",
      "PermanentCrop           1996\n",
      "Industrial              1985\n",
      "River                   1965\n",
      "Pasture                 1613\n",
      "Name: label, dtype: int64\n",
      "\n",
      "Nombre d'images par label dans l'échantillon test :\n",
      "AnnualCrop              618\n",
      "SeaLake                 613\n",
      "Residential             611\n",
      "Forest                  567\n",
      "HerbaceousVegetation    556\n",
      "River                   535\n",
      "Industrial              515\n",
      "PermanentCrop           504\n",
      "Highway                 490\n",
      "Pasture                 387\n",
      "Name: label, dtype: int64\n"
     ]
    }
   ],
   "source": [
    "print(\"Nombre d'images par label dans l'échantillon train :\")\n",
    "print(base[base['segment'] == 'train']['label'].value_counts())\n",
    "\n",
    "print(\"\\nNombre d'images par label dans l'échantillon test :\")\n",
    "print(base[base['segment'] == 'test']['label'].value_counts())"
   ]
  }
 ],
 "metadata": {
  "kernelspec": {
   "display_name": "Python [conda env:sat]",
   "language": "python",
   "name": "conda-env-sat-py"
  },
  "language_info": {
   "codemirror_mode": {
    "name": "ipython",
    "version": 3
   },
   "file_extension": ".py",
   "mimetype": "text/x-python",
   "name": "python",
   "nbconvert_exporter": "python",
   "pygments_lexer": "ipython3",
   "version": "3.7.6"
  }
 },
 "nbformat": 4,
 "nbformat_minor": 4
}
